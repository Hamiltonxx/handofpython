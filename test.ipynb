{
 "cells": [
  {
   "cell_type": "code",
   "execution_count": 1,
   "metadata": {},
   "outputs": [],
   "source": [
    "import httpx \n",
    "url = \"https://py.cirray.cn:8005\""
   ]
  },
  {
   "cell_type": "code",
   "execution_count": 3,
   "metadata": {},
   "outputs": [
    {
     "data": {
      "text/plain": [
       "[{'id': 1,\n",
       "  'title': '打印Hello World',\n",
       "  'description': '参考注释行,输入print语句,提交',\n",
       "  'passrate': None,\n",
       "  'difficulty': None,\n",
       "  'tags': None,\n",
       "  'cid': 1,\n",
       "  'chapter': 1,\n",
       "  'codeinit': '# print(\"Hello, World!\")',\n",
       "  'createtime': '2024-04-15T16:10:09'},\n",
       " {'id': 2,\n",
       "  'title': '个性化消息',\n",
       "  'description': '用变量表示一个人的名字，并向其显示一条消息。显示的消息非常简单: 你好,黄恪瑾,你今天想学点Python吗?',\n",
       "  'passrate': None,\n",
       "  'difficulty': None,\n",
       "  'tags': None,\n",
       "  'cid': 1,\n",
       "  'chapter': 2,\n",
       "  'codeinit': '',\n",
       "  'createtime': '2024-04-15T16:19:36'},\n",
       " {'id': 3,\n",
       "  'title': '删除人名中的空白',\n",
       "  'description': '用变量表示一个人的名字, 并在其开头和末尾都包含一些空白字符。分别使用函数lstrip(), rstrip() 和 strip()对人名进行处理, 并打印结果',\n",
       "  'passrate': None,\n",
       "  'difficulty': None,\n",
       "  'tags': None,\n",
       "  'cid': 1,\n",
       "  'chapter': 2,\n",
       "  'codeinit': '## 不可改区域\\nperson=\"\\tAlbert Einstein\\n\\n\"\\n## 不可改区域\\n\\n## 用lstrip()\\n\\n##用rstrip()\\n\\n##用strip()\\n',\n",
       "  'createtime': '2024-04-15T16:30:22'},\n",
       " {'id': 4,\n",
       "  'title': '文件扩展名',\n",
       "  'description': 'Python 提供了 removesuffix() 方法，其工作原理与 removeprefix() 很像。请给变量 filename 使用 removesuffix() 方法来显示不包含扩展名的文件名，并打印此文件名。',\n",
       "  'passrate': None,\n",
       "  'difficulty': None,\n",
       "  'tags': None,\n",
       "  'cid': 1,\n",
       "  'chapter': 2,\n",
       "  'codeinit': '## 不可改区域\\nfilename=\"python_notes.txt\"\\n## 不可改区域\\n\\n',\n",
       "  'createtime': '2024-04-15T16:43:11'}]"
      ]
     },
     "execution_count": 3,
     "metadata": {},
     "output_type": "execute_result"
    }
   ],
   "source": [
    "# problems\n",
    "resp = httpx.get(url+'/problems', verify=False)\n",
    "resp.json()"
   ]
  }
 ],
 "metadata": {
  "kernelspec": {
   "display_name": "Python 3",
   "language": "python",
   "name": "python3"
  },
  "language_info": {
   "codemirror_mode": {
    "name": "ipython",
    "version": 3
   },
   "file_extension": ".py",
   "mimetype": "text/x-python",
   "name": "python",
   "nbconvert_exporter": "python",
   "pygments_lexer": "ipython3",
   "version": "3.11.2"
  }
 },
 "nbformat": 4,
 "nbformat_minor": 2
}
